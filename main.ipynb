{
 "cells": [
  {
   "cell_type": "markdown",
   "id": "feb8ac1e",
   "metadata": {},
   "source": [
    "Data Load"
   ]
  },
  {
   "cell_type": "code",
   "execution_count": 1,
   "id": "776209f3",
   "metadata": {},
   "outputs": [],
   "source": [
    "import json"
   ]
  },
  {
   "cell_type": "code",
   "execution_count": 2,
   "id": "db2d2ddf",
   "metadata": {},
   "outputs": [
    {
     "data": {
      "text/plain": [
       "{'doc_id': 1,\n",
       " 'url': 'https://www.gutenberg.org/files/1342/1342-0.txt',\n",
       " 'author': 'Jane Austen',\n",
       " 'origin': 'Pride and Prejudice',\n",
       " 'start_line': 39,\n",
       " 'end_line': 14567}"
      ]
     },
     "execution_count": 2,
     "metadata": {},
     "output_type": "execute_result"
    }
   ],
   "source": [
    "with open('data/gutenberg.json','r') as source:\n",
    "    data = json.load(source)\n",
    "\n",
    "data[0]"
   ]
  },
  {
   "cell_type": "code",
   "execution_count": 3,
   "id": "39b016b9",
   "metadata": {},
   "outputs": [],
   "source": [
    "from urllib.request import Request, urlopen\n",
    "import re"
   ]
  },
  {
   "cell_type": "code",
   "execution_count": 4,
   "id": "ca8a3325",
   "metadata": {},
   "outputs": [],
   "source": [
    "# Test data\n",
    "data_dict = [\n",
    "        {\n",
    "                \"url\": \"https://www.gutenberg.org/files/21/21-0.txt\",\n",
    "                \"author\": \"Aesop\",\n",
    "                \"origin\": \"Aesop’s Fables\",\n",
    "                \"start_line\": 39,\n",
    "                \"end_line\": 4777,\n",
    "                \"search_pattern\": re.compile(r'([^\\n]+)\\n\\n(.*?)(?=\\n{5}(?=[^\\n]+\\n\\n)|$)', re.DOTALL)\n",
    "        },\n",
    "        {\n",
    "                \"url\" : \"https://www.gutenberg.org/files/2591/2591-0.txt\",\n",
    "                \"author\" : \"Jacob and Wilhelm Grimm\",\n",
    "                \"origin\" : \"Grimms' Fairy Tales\",\n",
    "                \"start_line\" : 123,\n",
    "                \"end_line\" : 9239,\n",
    "                \"search_pattern\" : re.compile(r\"([A-Z0-9 ,.'!?-]+)\\n{3}(.*?)(?=\\n{5}|$)\", re.DOTALL)\n",
    "        }\n",
    "]"
   ]
  },
  {
   "cell_type": "code",
   "execution_count": 5,
   "id": "dac12a22",
   "metadata": {},
   "outputs": [],
   "source": [
    "from document import Document"
   ]
  },
  {
   "cell_type": "code",
   "execution_count": 6,
   "id": "4a8979db",
   "metadata": {},
   "outputs": [],
   "source": [
    "def split_chapters(lines):\n",
    "    full_text = '\\n'.join(lines)\n",
    "    raw_chapters = re.split(r'\\n{4,}', full_text.strip())\n",
    "    print(raw_chapters)\n",
    "\n",
    "    chapters = []\n",
    "    for raw in raw_chapters:\n",
    "        parts = [line.strip() for line in raw.split('\\n') if line.strip()]\n",
    "        if not parts:\n",
    "            continue\n",
    "        \n",
    "        title = parts[0]\n",
    "        content = '\\n'.join(parts[1:])\n",
    "        chapters.append((title, content.strip()))\n",
    "    \n",
    "    return chapters"
   ]
  },
  {
   "cell_type": "code",
   "execution_count": 7,
   "id": "c5198efa",
   "metadata": {},
   "outputs": [
    {
     "name": "stdout",
     "output_type": "stream",
     "text": [
      "==========\n",
      "[('The Wolf And The Lamb', 'WOLF, meeting with a Lamb astray from the fold, resolved not to lay\\nviolent hands on him, but to find some plea to justify to the Lamb the\\nWolf’s right to eat him. He thus addressed him: “Sirrah, last year you\\ngrossly insulted me.” “Indeed,” bleated the Lamb in a mournful tone\\nof voice, “I was not then born.” Then said the Wolf, “You feed in my\\npasture.” “No, good sir,” replied the Lamb, “I have not yet tasted\\ngrass.” Again said the Wolf, “You drink of my well.” “No,” exclaimed the\\nLamb, “I never yet drank water, for as yet my mother’s milk is both food\\nand drink to me.” Upon which the Wolf seized him and ate him up, saying,\\n“Well! I won’t remain supperless, even though you refute every one of my\\nimputations.” The tyrant will always find a pretext for his tyranny.'), ('The Bat And The Weasels', 'A BAT who fell upon the ground and was caught by a Weasel pleaded to be\\nspared his life. The Weasel refused, saying that he was by nature the\\nenemy of all birds. The Bat assured him that he was not a bird, but a\\nmouse, and thus was set free. Shortly afterwards the Bat again fell to\\nthe ground and was caught by another Weasel, whom he likewise entreated\\nnot to eat him. The Weasel said that he had a special hostility to\\nmice. The Bat assured him that he was not a mouse, but a bat, and thus a\\nsecond time escaped.\\n\\nIt is wise to turn circumstances to good account.')]\n",
      "311\n",
      "\n",
      "Title: The Wolf And The Lamb\n",
      "\n",
      "Content: WOLF, meeting with a Lamb astray from the fold, resolved not to lay\n",
      "violent hands on him, but to find some plea to justify to the Lamb the\n",
      "Wolf’s righ...\n",
      "\n",
      "\n",
      "Title: The Bat And The Weasels\n",
      "\n",
      "Content: A BAT who fell upon the ground and was caught by a Weasel pleaded to be\n",
      "spared his life. The Weasel refused, saying that he was by nature the\n",
      "enemy of...\n",
      "\n",
      "\n",
      "Title: The Ass And The Grasshopper\n",
      "\n",
      "Content: AN ASS having heard some Grasshoppers chirping, was highly enchanted;\n",
      "and, desiring to possess the same charms of melody, demanded what sort\n",
      "of food t...\n",
      "\n",
      "==========\n",
      "[('THE GOLDEN BIRD', 'A certain king had a beautiful garden, and in the garden stood a tree\\nwhich bore golden apples. These apples were always counted, and about\\nthe time when they began to grow ripe it was found that every night one\\nof them was gone. The king became very angry at this, and ordered the\\ngardener to keep watch all night under the tree. The gardener set his\\neldest son to watch; but about twelve o’clock he fell asleep, and in\\nthe morning another of the apples was missing. Then the second son was\\nordered to watch; and at midnight he too fell asleep, and in the morning\\nanother apple was gone. Then the third son offered to keep watch; but\\nthe gardener at first would not let him, for fear some harm should come\\nto him: however, at last he consented, and the young man laid himself\\nunder the tree to watch. As the clock struck twelve he heard a rustling\\nnoise in the air, and a bird came flying that was of pure gold; and as\\nit was snapping at one of the apples with its beak, the gardener’s son\\njumped up and shot an arrow at it. But the arrow did the bird no harm;\\nonly it dropped a golden feather from its tail, and then flew away.\\nThe golden feather was brought to the king in the morning, and all the\\ncouncil was called together. Everyone agreed that it was worth more than\\nall the wealth of the kingdom: but the king said, ‘One feather is of no\\nuse to me, I must have the whole bird.’\\n\\nThen the gardener’s eldest son set out and thought to find the golden\\nbird very easily; and when he had gone but a little way, he came to a\\nwood, and by the side of the wood he saw a fox sitting; so he took his\\nbow and made ready to shoot at it. Then the fox said, ‘Do not shoot me,\\nfor I will give you good counsel; I know what your business is, and\\nthat you want to find the golden bird. You will reach a village in the\\nevening; and when you get there, you will see two inns opposite to each\\nother, one of which is very pleasant and beautiful to look at: go not in\\nthere, but rest for the night in the other, though it may appear to you\\nto be very poor and mean.’ But the son thought to himself, ‘What can\\nsuch a beast as this know about the matter?’ So he shot his arrow at\\nthe fox; but he missed it, and it set up its tail above its back and\\nran into the wood. Then he went his way, and in the evening came to\\nthe village where the two inns were; and in one of these were people\\nsinging, and dancing, and feasting; but the other looked very dirty,\\nand poor. ‘I should be very silly,’ said he, ‘if I went to that shabby\\nhouse, and left this charming place’; so he went into the smart house,\\nand ate and drank at his ease, and forgot the bird, and his country too.\\n\\nTime passed on; and as the eldest son did not come back, and no tidings\\nwere heard of him, the second son set out, and the same thing happened\\nto him. He met the fox, who gave him the good advice: but when he came\\nto the two inns, his eldest brother was standing at the window where\\nthe merrymaking was, and called to him to come in; and he could not\\nwithstand the temptation, but went in, and forgot the golden bird and\\nhis country in the same manner.\\n\\nTime passed on again, and the youngest son too wished to set out into\\nthe wide world to seek for the golden bird; but his father would not\\nlisten to it for a long while, for he was very fond of his son, and\\nwas afraid that some ill luck might happen to him also, and prevent his\\ncoming back. However, at last it was agreed he should go, for he would\\nnot rest at home; and as he came to the wood, he met the fox, and heard\\nthe same good counsel. But he was thankful to the fox, and did not\\nattempt his life as his brothers had done; so the fox said, ‘Sit upon my\\ntail, and you will travel faster.’ So he sat down, and the fox began to\\nrun, and away they went over stock and stone so quick that their hair\\nwhistled in the wind.\\n\\nWhen they came to the village, the son followed the fox’s counsel, and\\nwithout looking about him went to the shabby inn and rested there all\\nnight at his ease. In the morning came the fox again and met him as he\\nwas beginning his journey, and said, ‘Go straight forward, till you come\\nto a castle, before which lie a whole troop of soldiers fast asleep and\\nsnoring: take no notice of them, but go into the castle and pass on and\\non till you come to a room, where the golden bird sits in a wooden cage;\\nclose by it stands a beautiful golden cage; but do not try to take the\\nbird out of the shabby cage and put it into the handsome one, otherwise\\nyou will repent it.’ Then the fox stretched out his tail again, and the\\nyoung man sat himself down, and away they went over stock and stone till\\ntheir hair whistled in the wind.\\n\\nBefore the castle gate all was as the fox had said: so the son went in\\nand found the chamber where the golden bird hung in a wooden cage, and\\nbelow stood the golden cage, and the three golden apples that had been\\nlost were lying close by it. Then thought he to himself, ‘It will be a\\nvery droll thing to bring away such a fine bird in this shabby cage’; so\\nhe opened the door and took hold of it and put it into the golden cage.\\nBut the bird set up such a loud scream that all the soldiers awoke, and\\nthey took him prisoner and carried him before the king. The next morning\\nthe court sat to judge him; and when all was heard, it sentenced him to\\ndie, unless he should bring the king the golden horse which could run as\\nswiftly as the wind; and if he did this, he was to have the golden bird\\ngiven him for his own.\\n\\nSo he set out once more on his journey, sighing, and in great despair,\\nwhen on a sudden his friend the fox met him, and said, ‘You see now\\nwhat has happened on account of your not listening to my counsel. I will\\nstill, however, tell you how to find the golden horse, if you will do as\\nI bid you. You must go straight on till you come to the castle where the\\nhorse stands in his stall: by his side will lie the groom fast asleep\\nand snoring: take away the horse quietly, but be sure to put the old\\nleathern saddle upon him, and not the golden one that is close by it.’\\nThen the son sat down on the fox’s tail, and away they went over stock\\nand stone till their hair whistled in the wind.\\n\\nAll went right, and the groom lay snoring with his hand upon the golden\\nsaddle. But when the son looked at the horse, he thought it a great pity\\nto put the leathern saddle upon it. ‘I will give him the good one,’\\nsaid he; ‘I am sure he deserves it.’ As he took up the golden saddle the\\ngroom awoke and cried out so loud, that all the guards ran in and took\\nhim prisoner, and in the morning he was again brought before the court\\nto be judged, and was sentenced to die. But it was agreed, that, if he\\ncould bring thither the beautiful princess, he should live, and have the\\nbird and the horse given him for his own.\\n\\nThen he went his way very sorrowful; but the old fox came and said, ‘Why\\ndid not you listen to me? If you had, you would have carried away\\nboth the bird and the horse; yet will I once more give you counsel. Go\\nstraight on, and in the evening you will arrive at a castle. At twelve\\no’clock at night the princess goes to the bathing-house: go up to her\\nand give her a kiss, and she will let you lead her away; but take care\\nyou do not suffer her to go and take leave of her father and mother.’\\nThen the fox stretched out his tail, and so away they went over stock\\nand stone till their hair whistled again.\\n\\nAs they came to the castle, all was as the fox had said, and at twelve\\no’clock the young man met the princess going to the bath and gave her the\\nkiss, and she agreed to run away with him, but begged with many tears\\nthat he would let her take leave of her father. At first he refused,\\nbut she wept still more and more, and fell at his feet, till at last\\nhe consented; but the moment she came to her father’s house the guards\\nawoke and he was taken prisoner again.\\n\\nThen he was brought before the king, and the king said, ‘You shall never\\nhave my daughter unless in eight days you dig away the hill that stops\\nthe view from my window.’ Now this hill was so big that the whole world\\ncould not take it away: and when he had worked for seven days, and had\\ndone very little, the fox came and said. ‘Lie down and go to sleep; I\\nwill work for you.’ And in the morning he awoke and the hill was gone;\\nso he went merrily to the king, and told him that now that it was\\nremoved he must give him the princess.\\n\\nThen the king was obliged to keep his word, and away went the young man\\nand the princess; and the fox came and said to him, ‘We will have all\\nthree, the princess, the horse, and the bird.’ ‘Ah!’ said the young man,\\n‘that would be a great thing, but how can you contrive it?’\\n\\n‘If you will only listen,’ said the fox, ‘it can be done. When you come\\nto the king, and he asks for the beautiful princess, you must say, “Here\\nshe is!” Then he will be very joyful; and you will mount the golden\\nhorse that they are to give you, and put out your hand to take leave of\\nthem; but shake hands with the princess last. Then lift her quickly on\\nto the horse behind you; clap your spurs to his side, and gallop away as\\nfast as you can.’\\n\\nAll went right: then the fox said, ‘When you come to the castle where\\nthe bird is, I will stay with the princess at the door, and you will\\nride in and speak to the king; and when he sees that it is the right\\nhorse, he will bring out the bird; but you must sit still, and say that\\nyou want to look at it, to see whether it is the true golden bird; and\\nwhen you get it into your hand, ride away.’\\n\\nThis, too, happened as the fox said; they carried off the bird, the\\nprincess mounted again, and they rode on to a great wood. Then the fox\\ncame, and said, ‘Pray kill me, and cut off my head and my feet.’ But the\\nyoung man refused to do it: so the fox said, ‘I will at any rate give\\nyou good counsel: beware of two things; ransom no one from the gallows,\\nand sit down by the side of no river.’ Then away he went. ‘Well,’\\nthought the young man, ‘it is no hard matter to keep that advice.’\\n\\nHe rode on with the princess, till at last he came to the village where\\nhe had left his two brothers. And there he heard a great noise and\\nuproar; and when he asked what was the matter, the people said, ‘Two men\\nare going to be hanged.’ As he came nearer, he saw that the two men were\\nhis brothers, who had turned robbers; so he said, ‘Cannot they in any\\nway be saved?’ But the people said ‘No,’ unless he would bestow all his\\nmoney upon the rascals and buy their liberty. Then he did not stay to\\nthink about the matter, but paid what was asked, and his brothers were\\ngiven up, and went on with him towards their home.\\n\\nAnd as they came to the wood where the fox first met them, it was so\\ncool and pleasant that the two brothers said, ‘Let us sit down by the\\nside of the river, and rest a while, to eat and drink.’ So he said,\\n‘Yes,’ and forgot the fox’s counsel, and sat down on the side of the\\nriver; and while he suspected nothing, they came behind, and threw him\\ndown the bank, and took the princess, the horse, and the bird, and went\\nhome to the king their master, and said. ‘All this have we won by our\\nlabour.’ Then there was great rejoicing made; but the horse would not\\neat, the bird would not sing, and the princess wept.\\n\\nThe youngest son fell to the bottom of the river’s bed: luckily it was\\nnearly dry, but his bones were almost broken, and the bank was so steep\\nthat he could find no way to get out. Then the old fox came once more,\\nand scolded him for not following his advice; otherwise no evil would\\nhave befallen him: ‘Yet,’ said he, ‘I cannot leave you here, so lay hold\\nof my tail and hold fast.’ Then he pulled him out of the river, and said\\nto him, as he got upon the bank, ‘Your brothers have set watch to kill\\nyou, if they find you in the kingdom.’ So he dressed himself as a poor\\nman, and came secretly to the king’s court, and was scarcely within the\\ndoors when the horse began to eat, and the bird to sing, and the princess\\nleft off weeping. Then he went to the king, and told him all his\\nbrothers’ roguery; and they were seized and punished, and he had the\\nprincess given to him again; and after the king’s death he was heir to\\nhis kingdom.\\n\\nA long while after, he went to walk one day in the wood, and the old fox\\nmet him, and besought him with tears in his eyes to kill him, and cut\\noff his head and feet. And at last he did so, and in a moment the\\nfox was changed into a man, and turned out to be the brother of the\\nprincess, who had been lost a great many many years.'), ('HANS IN LUCK', 'Some men are born to good luck: all they do or try to do comes\\nright--all that falls to them is so much gain--all their geese are\\nswans--all their cards are trumps--toss them which way you will, they\\nwill always, like poor puss, alight upon their legs, and only move on so\\nmuch the faster. The world may very likely not always think of them as\\nthey think of themselves, but what care they for the world? what can it\\nknow about the matter?\\n\\nOne of these lucky beings was neighbour Hans. Seven long years he had\\nworked hard for his master. At last he said, ‘Master, my time is up; I\\nmust go home and see my poor mother once more: so pray pay me my wages\\nand let me go.’ And the master said, ‘You have been a faithful and good\\nservant, Hans, so your pay shall be handsome.’ Then he gave him a lump\\nof silver as big as his head.\\n\\nHans took out his pocket-handkerchief, put the piece of silver into it,\\nthrew it over his shoulder, and jogged off on his road homewards. As he\\nwent lazily on, dragging one foot after another, a man came in sight,\\ntrotting gaily along on a capital horse. ‘Ah!’ said Hans aloud, ‘what a\\nfine thing it is to ride on horseback! There he sits as easy and happy\\nas if he was at home, in the chair by his fireside; he trips against no\\nstones, saves shoe-leather, and gets on he hardly knows how.’ Hans did\\nnot speak so softly but the horseman heard it all, and said, ‘Well,\\nfriend, why do you go on foot then?’ ‘Ah!’ said he, ‘I have this load to\\ncarry: to be sure it is silver, but it is so heavy that I can’t hold up\\nmy head, and you must know it hurts my shoulder sadly.’ ‘What do you say\\nof making an exchange?’ said the horseman. ‘I will give you my horse,\\nand you shall give me the silver; which will save you a great deal of\\ntrouble in carrying such a heavy load about with you.’ ‘With all my\\nheart,’ said Hans: ‘but as you are so kind to me, I must tell you one\\nthing--you will have a weary task to draw that silver about with you.’\\nHowever, the horseman got off, took the silver, helped Hans up, gave him\\nthe bridle into one hand and the whip into the other, and said, ‘When\\nyou want to go very fast, smack your lips loudly together, and cry\\n“Jip!”’\\n\\nHans was delighted as he sat on the horse, drew himself up, squared his\\nelbows, turned out his toes, cracked his whip, and rode merrily off, one\\nminute whistling a merry tune, and another singing,\\n\\n ‘No care and no sorrow,\\n  A fig for the morrow!\\n  We’ll laugh and be merry,\\n  Sing neigh down derry!’\\n\\nAfter a time he thought he should like to go a little faster, so he\\nsmacked his lips and cried ‘Jip!’ Away went the horse full gallop; and\\nbefore Hans knew what he was about, he was thrown off, and lay on his\\nback by the road-side. His horse would have ran off, if a shepherd who\\nwas coming by, driving a cow, had not stopped it. Hans soon came to\\nhimself, and got upon his legs again, sadly vexed, and said to the\\nshepherd, ‘This riding is no joke, when a man has the luck to get upon\\na beast like this that stumbles and flings him off as if it would break\\nhis neck. However, I’m off now once for all: I like your cow now a great\\ndeal better than this smart beast that played me this trick, and has\\nspoiled my best coat, you see, in this puddle; which, by the by, smells\\nnot very like a nosegay. One can walk along at one’s leisure behind that\\ncow--keep good company, and have milk, butter, and cheese, every day,\\ninto the bargain. What would I give to have such a prize!’ ‘Well,’ said\\nthe shepherd, ‘if you are so fond of her, I will change my cow for your\\nhorse; I like to do good to my neighbours, even though I lose by it\\nmyself.’ ‘Done!’ said Hans, merrily. ‘What a noble heart that good man\\nhas!’ thought he. Then the shepherd jumped upon the horse, wished Hans\\nand the cow good morning, and away he rode.\\n\\nHans brushed his coat, wiped his face and hands, rested a while, and\\nthen drove off his cow quietly, and thought his bargain a very lucky\\none. ‘If I have only a piece of bread (and I certainly shall always be\\nable to get that), I can, whenever I like, eat my butter and cheese with\\nit; and when I am thirsty I can milk my cow and drink the milk: and what\\ncan I wish for more?’ When he came to an inn, he halted, ate up all his\\nbread, and gave away his last penny for a glass of beer. When he had\\nrested himself he set off again, driving his cow towards his mother’s\\nvillage. But the heat grew greater as soon as noon came on, till at\\nlast, as he found himself on a wide heath that would take him more than\\nan hour to cross, he began to be so hot and parched that his tongue\\nclave to the roof of his mouth. ‘I can find a cure for this,’ thought\\nhe; ‘now I will milk my cow and quench my thirst’: so he tied her to the\\nstump of a tree, and held his leathern cap to milk into; but not a drop\\nwas to be had. Who would have thought that this cow, which was to bring\\nhim milk and butter and cheese, was all that time utterly dry? Hans had\\nnot thought of looking to that.\\n\\nWhile he was trying his luck in milking, and managing the matter very\\nclumsily, the uneasy beast began to think him very troublesome; and at\\nlast gave him such a kick on the head as knocked him down; and there he\\nlay a long while senseless. Luckily a butcher soon came by, driving a\\npig in a wheelbarrow. ‘What is the matter with you, my man?’ said the\\nbutcher, as he helped him up. Hans told him what had happened, how he\\nwas dry, and wanted to milk his cow, but found the cow was dry too. Then\\nthe butcher gave him a flask of ale, saying, ‘There, drink and refresh\\nyourself; your cow will give you no milk: don’t you see she is an old\\nbeast, good for nothing but the slaughter-house?’ ‘Alas, alas!’ said\\nHans, ‘who would have thought it? What a shame to take my horse, and\\ngive me only a dry cow! If I kill her, what will she be good for? I hate\\ncow-beef; it is not tender enough for me. If it were a pig now--like\\nthat fat gentleman you are driving along at his ease--one could do\\nsomething with it; it would at any rate make sausages.’ ‘Well,’ said\\nthe butcher, ‘I don’t like to say no, when one is asked to do a kind,\\nneighbourly thing. To please you I will change, and give you my fine fat\\npig for the cow.’ ‘Heaven reward you for your kindness and self-denial!’\\nsaid Hans, as he gave the butcher the cow; and taking the pig off the\\nwheel-barrow, drove it away, holding it by the string that was tied to\\nits leg.\\n\\nSo on he jogged, and all seemed now to go right with him: he had met\\nwith some misfortunes, to be sure; but he was now well repaid for all.\\nHow could it be otherwise with such a travelling companion as he had at\\nlast got?\\n\\nThe next man he met was a countryman carrying a fine white goose. The\\ncountryman stopped to ask what was o’clock; this led to further chat;\\nand Hans told him all his luck, how he had so many good bargains, and\\nhow all the world went gay and smiling with him. The countryman then\\nbegan to tell his tale, and said he was going to take the goose to a\\nchristening. ‘Feel,’ said he, ‘how heavy it is, and yet it is only eight\\nweeks old. Whoever roasts and eats it will find plenty of fat upon it,\\nit has lived so well!’ ‘You’re right,’ said Hans, as he weighed it in\\nhis hand; ‘but if you talk of fat, my pig is no trifle.’ Meantime the\\ncountryman began to look grave, and shook his head. ‘Hark ye!’ said he,\\n‘my worthy friend, you seem a good sort of fellow, so I can’t help doing\\nyou a kind turn. Your pig may get you into a scrape. In the village I\\njust came from, the squire has had a pig stolen out of his sty. I was\\ndreadfully afraid when I saw you that you had got the squire’s pig. If\\nyou have, and they catch you, it will be a bad job for you. The least\\nthey will do will be to throw you into the horse-pond. Can you swim?’\\n\\nPoor Hans was sadly frightened. ‘Good man,’ cried he, ‘pray get me out\\nof this scrape. I know nothing of where the pig was either bred or born;\\nbut he may have been the squire’s for aught I can tell: you know this\\ncountry better than I do, take my pig and give me the goose.’ ‘I ought\\nto have something into the bargain,’ said the countryman; ‘give a fat\\ngoose for a pig, indeed! ‘Tis not everyone would do so much for you as\\nthat. However, I will not be hard upon you, as you are in trouble.’ Then\\nhe took the string in his hand, and drove off the pig by a side path;\\nwhile Hans went on the way homewards free from care. ‘After all,’\\nthought he, ‘that chap is pretty well taken in. I don’t care whose pig\\nit is, but wherever it came from it has been a very good friend to me. I\\nhave much the best of the bargain. First there will be a capital roast;\\nthen the fat will find me in goose-grease for six months; and then there\\nare all the beautiful white feathers. I will put them into my pillow,\\nand then I am sure I shall sleep soundly without rocking. How happy my\\nmother will be! Talk of a pig, indeed! Give me a fine fat goose.’\\n\\nAs he came to the next village, he saw a scissor-grinder with his wheel,\\nworking and singing,\\n\\n ‘O’er hill and o’er dale\\n  So happy I roam,\\n  Work light and live well,\\n  All the world is my home;\\n  Then who so blythe, so merry as I?’\\n\\nHans stood looking on for a while, and at last said, ‘You must be well\\noff, master grinder! you seem so happy at your work.’ ‘Yes,’ said the\\nother, ‘mine is a golden trade; a good grinder never puts his hand\\ninto his pocket without finding money in it--but where did you get that\\nbeautiful goose?’ ‘I did not buy it, I gave a pig for it.’ ‘And where\\ndid you get the pig?’ ‘I gave a cow for it.’ ‘And the cow?’ ‘I gave a\\nhorse for it.’ ‘And the horse?’ ‘I gave a lump of silver as big as my\\nhead for it.’ ‘And the silver?’ ‘Oh! I worked hard for that seven long\\nyears.’ ‘You have thriven well in the world hitherto,’ said the grinder,\\n‘now if you could find money in your pocket whenever you put your hand\\nin it, your fortune would be made.’ ‘Very true: but how is that to be\\nmanaged?’ ‘How? Why, you must turn grinder like myself,’ said the other;\\n‘you only want a grindstone; the rest will come of itself. Here is one\\nthat is but little the worse for wear: I would not ask more than the\\nvalue of your goose for it--will you buy?’ ‘How can you ask?’ said\\nHans; ‘I should be the happiest man in the world, if I could have money\\nwhenever I put my hand in my pocket: what could I want more? there’s\\nthe goose.’ ‘Now,’ said the grinder, as he gave him a common rough stone\\nthat lay by his side, ‘this is a most capital stone; do but work it well\\nenough, and you can make an old nail cut with it.’\\n\\nHans took the stone, and went his way with a light heart: his eyes\\nsparkled for joy, and he said to himself, ‘Surely I must have been born\\nin a lucky hour; everything I could want or wish for comes of itself.\\nPeople are so kind; they seem really to think I do them a favour in\\nletting them make me rich, and giving me good bargains.’\\n\\nMeantime he began to be tired, and hungry too, for he had given away his\\nlast penny in his joy at getting the cow.\\n\\nAt last he could go no farther, for the stone tired him sadly: and he\\ndragged himself to the side of a river, that he might take a drink of\\nwater, and rest a while. So he laid the stone carefully by his side on\\nthe bank: but, as he stooped down to drink, he forgot it, pushed it a\\nlittle, and down it rolled, plump into the stream.\\n\\nFor a while he watched it sinking in the deep clear water; then sprang\\nup and danced for joy, and again fell upon his knees and thanked Heaven,\\nwith tears in his eyes, for its kindness in taking away his only plague,\\nthe ugly heavy stone.\\n\\n‘How happy am I!’ cried he; ‘nobody was ever so lucky as I.’ Then up he\\ngot with a light heart, free from all his troubles, and walked on till\\nhe reached his mother’s house, and told her how very easy the road to\\ngood luck was.')]\n",
      "61\n",
      "\n",
      "Title: THE GOLDEN BIRD\n",
      "\n",
      "Content: A certain king had a beautiful garden, and in the garden stood a tree\n",
      "which bore golden apples. These apples were always counted, and about\n",
      "the time w...\n",
      "\n",
      "\n",
      "Title: HANS IN LUCK\n",
      "\n",
      "Content: Some men are born to good luck: all they do or try to do comes\n",
      "right--all that falls to them is so much gain--all their geese are\n",
      "swans--all their car...\n",
      "\n",
      "\n",
      "Title: JORINDA AND JORINDEL\n",
      "\n",
      "Content: There was once an old castle, that stood in the middle of a deep gloomy\n",
      "wood, and in the castle lived an old fairy. Now this fairy could take\n",
      "any shap...\n",
      "\n"
     ]
    }
   ],
   "source": [
    "for data in data_dict:\n",
    "    print('='*10)\n",
    "    with urlopen(Request(url=data['url'])) as response:\n",
    "        raw_text = response.read().decode('utf-8')\n",
    "    \n",
    "    lines = raw_text.splitlines()\n",
    "    relevant_lines = lines[data['start_line']:data['end_line']]\n",
    "    relevant_text = '\\n'.join(relevant_lines)\n",
    "\n",
    "    matches = data['search_pattern'].findall(relevant_text)\n",
    "    print(matches[:2])\n",
    "\n",
    "    fables = []\n",
    "    \n",
    "    for title, content in matches:\n",
    "        fable = {\n",
    "            'title' : title.strip(),\n",
    "            'content': content.strip(),\n",
    "            'author': data['author'],\n",
    "            'origin': data['origin']\n",
    "        }\n",
    "\n",
    "        fables.append(fable)\n",
    "    \n",
    "    print(len(fables))\n",
    "    \n",
    "    for fable in fables[:3]:\n",
    "        print(f\"\\nTitle: {fable['title']}\\n\")\n",
    "        print(f\"Content: {fable['content'][:150]}...\\n\")"
   ]
  },
  {
   "cell_type": "code",
   "execution_count": 8,
   "id": "0fca64fc",
   "metadata": {},
   "outputs": [],
   "source": [
    "from my_module import load_collection_from_url"
   ]
  },
  {
   "cell_type": "code",
   "execution_count": 10,
   "id": "4ec30a1a",
   "metadata": {},
   "outputs": [],
   "source": [
    "documents = load_collection_from_url(url=data_dict[0]['url'],author=data_dict[0]['author'],origin=data_dict[0]['origin'],start_line=data_dict[0]['start_line'],end_line=data_dict[0]['end_line'],search_pattern=data_dict[0]['search_pattern'])"
   ]
  },
  {
   "cell_type": "code",
   "execution_count": 11,
   "id": "760f9f5a",
   "metadata": {},
   "outputs": [
    {
     "name": "stdout",
     "output_type": "stream",
     "text": [
      "\n",
      "        document_id = 0.\n",
      "        title = The Wolf And The Lamb\n",
      "        Author = Aesop\n",
      "        origin = Aesop’s Fables\n",
      "        raw_text = WOLF, meeting with a Lamb astray from the fold, resolved not to lay\n",
      "violent hands on him, but to fin\n",
      "        terms = ['WOLF,', 'meeting', 'with', 'a', 'Lamb', 'astray', 'from', 'the', 'fold,', 'resolved', 'not', 'to', 'lay', 'violent', 'hands', 'on', 'him,', 'but', 'to', 'find']\n",
      "\n",
      "        document_id = 1.\n",
      "        title = The Bat And The Weasels\n",
      "        Author = Aesop\n",
      "        origin = Aesop’s Fables\n",
      "        raw_text = A BAT who fell upon the ground and was caught by a Weasel pleaded to be\n",
      "spared his life. The Weasel \n",
      "        terms = ['A', 'BAT', 'who', 'fell', 'upon', 'the', 'ground', 'and', 'was', 'caught', 'by', 'a', 'Weasel', 'pleaded', 'to', 'be', 'spared', 'his', 'life.', 'The']\n",
      "\n",
      "        document_id = 2.\n",
      "        title = The Ass And The Grasshopper\n",
      "        Author = Aesop\n",
      "        origin = Aesop’s Fables\n",
      "        raw_text = AN ASS having heard some Grasshoppers chirping, was highly enchanted;\n",
      "and, desiring to possess the s\n",
      "        terms = ['AN', 'ASS', 'having', 'heard', 'some', 'Grasshoppers', 'chirping,', 'was', 'highly', 'enchanted;', 'and,', 'desiring', 'to', 'possess', 'the', 'same', 'charms', 'of', 'melody,', 'demanded']\n",
      "\n",
      "        document_id = 3.\n",
      "        title = The Lion And The Mouse\n",
      "        Author = Aesop\n",
      "        origin = Aesop’s Fables\n",
      "        raw_text = A LION was awakened from sleep by a Mouse running over his face. Rising\n",
      "up angrily, he caught him an\n",
      "        terms = ['A', 'LION', 'was', 'awakened', 'from', 'sleep', 'by', 'a', 'Mouse', 'running', 'over', 'his', 'face.', 'Rising', 'up', 'angrily,', 'he', 'caught', 'him', 'and']\n",
      "\n",
      "        document_id = 4.\n",
      "        title = The Charcoal-Burner And The Fuller\n",
      "        Author = Aesop\n",
      "        origin = Aesop’s Fables\n",
      "        raw_text = A CHARCOAL-BURNER carried on his trade in his own house. One day he met\n",
      "a friend, a Fuller, and entr\n",
      "        terms = ['A', 'CHARCOAL-BURNER', 'carried', 'on', 'his', 'trade', 'in', 'his', 'own', 'house.', 'One', 'day', 'he', 'met', 'a', 'friend,', 'a', 'Fuller,', 'and', 'entreated']\n"
     ]
    }
   ],
   "source": [
    "for doc in documents[:5]:\n",
    "    print(f\"\"\"\n",
    "        document_id = {doc.document_id}.\n",
    "        title = {doc.title}\n",
    "        Author = {doc.author}\n",
    "        origin = {doc.origin}\n",
    "        raw_text = {doc.raw_text[:100]}\n",
    "        terms = {doc.terms[:20]}\"\"\")"
   ]
  },
  {
   "cell_type": "code",
   "execution_count": 12,
   "id": "49349ddc",
   "metadata": {},
   "outputs": [
    {
     "name": "stdout",
     "output_type": "stream",
     "text": [
      "['WOLF,', 'meeting', 'with', 'a', 'Lamb', 'astray', 'from', 'the', 'fold,', 'resolved', 'not', 'to', 'lay', 'violent', 'hands', 'on', 'him,', 'but', 'to', 'find', 'some', 'plea', 'to', 'justify', 'to', 'the', 'Lamb', 'the', 'Wolf’s', 'right', 'to', 'eat', 'him.', 'He', 'thus', 'addressed', 'him:', '“Sirrah,', 'last', 'year', 'you', 'grossly', 'insulted', 'me.”', '“Indeed,”', 'bleated', 'the', 'Lamb', 'in', 'a', 'mournful', 'tone', 'of', 'voice,', '“I', 'was', 'not', 'then', 'born.”', 'Then', 'said', 'the', 'Wolf,', '“You', 'feed', 'in', 'my', 'pasture.”', '“No,', 'good', 'sir,”', 'replied', 'the', 'Lamb,', '“I', 'have', 'not', 'yet', 'tasted', 'grass.”', 'Again', 'said', 'the', 'Wolf,', '“You', 'drink', 'of', 'my', 'well.”', '“No,”', 'exclaimed', 'the', 'Lamb,', '“I', 'never', 'yet', 'drank', 'water,', 'for', 'as', 'yet', 'my', 'mother’s', 'milk', 'is', 'both', 'food', 'and', 'drink', 'to', 'me.”', 'Upon', 'which', 'the', 'Wolf', 'seized', 'him', 'and', 'ate', 'him', 'up,', 'saying,', '“Well!', 'I', 'won’t', 'remain', 'supperless,', 'even', 'though', 'you', 'refute', 'every', 'one', 'of', 'my', 'imputations.”', 'The', 'tyrant', 'will', 'always', 'find', 'a', 'pretext', 'for', 'his', 'tyranny.']\n"
     ]
    }
   ],
   "source": [
    "print(documents[0].raw_text.replace('\\n',' ').split())"
   ]
  }
 ],
 "metadata": {
  "kernelspec": {
   "display_name": "ir",
   "language": "python",
   "name": "python3"
  },
  "language_info": {
   "codemirror_mode": {
    "name": "ipython",
    "version": 3
   },
   "file_extension": ".py",
   "mimetype": "text/x-python",
   "name": "python",
   "nbconvert_exporter": "python",
   "pygments_lexer": "ipython3",
   "version": "3.10.0"
  }
 },
 "nbformat": 4,
 "nbformat_minor": 5
}
