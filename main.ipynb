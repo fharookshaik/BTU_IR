{
 "cells": [
  {
   "cell_type": "markdown",
   "id": "feb8ac1e",
   "metadata": {},
   "source": [
    "Data Load"
   ]
  },
  {
   "cell_type": "code",
   "execution_count": 1,
   "id": "776209f3",
   "metadata": {},
   "outputs": [],
   "source": [
    "import json"
   ]
  },
  {
   "cell_type": "code",
   "execution_count": 2,
   "id": "db2d2ddf",
   "metadata": {},
   "outputs": [
    {
     "data": {
      "text/plain": [
       "{'doc_id': 1,\n",
       " 'url': 'https://www.gutenberg.org/files/1342/1342-0.txt',\n",
       " 'author': 'Jane Austen',\n",
       " 'origin': 'Pride and Prejudice',\n",
       " 'start_line': 39,\n",
       " 'end_line': 14567}"
      ]
     },
     "execution_count": 2,
     "metadata": {},
     "output_type": "execute_result"
    }
   ],
   "source": [
    "with open('data/gutenberg.json','r') as source:\n",
    "    data = json.load(source)\n",
    "\n",
    "data[0]"
   ]
  },
  {
   "cell_type": "code",
   "execution_count": null,
   "id": "0856fe7c",
   "metadata": {},
   "outputs": [],
   "source": [
    "def load_documents_from_url(url: str, author: str, origin: str, start_line: int, end_line: int, search_pattern: Pattern[str]):\n",
    "    \"\"\"\n",
    "    Your implementation must:\n",
    "    - Download the text file at the given URL\n",
    "    - Split it into individual stories (each a Document)\n",
    "    - Fill in all Document fields: title, raw_text, terms, author, origin (URL)\n",
    "    - Return a list of Document instances\n",
    "    \"\"\"\n",
    "\n",
    "    from urllib.request import urlopen, Request\n",
    "    from urllib.error import URLError, HTTPError\n",
    "\n",
    "    req = Request(url)\n",
    "    "
   ]
  },
  {
   "cell_type": "code",
   "execution_count": 15,
   "id": "b8ea980a",
   "metadata": {},
   "outputs": [
    {
     "data": {
      "text/plain": [
       "str"
      ]
     },
     "execution_count": 15,
     "metadata": {},
     "output_type": "execute_result"
    }
   ],
   "source": [
    "response = urlopen(Request(data[0].get('url')))\n",
    "\n",
    "type(response.read().decode('utf-8', errors='replace'))"
   ]
  }
 ],
 "metadata": {
  "kernelspec": {
   "display_name": "ir",
   "language": "python",
   "name": "python3"
  },
  "language_info": {
   "codemirror_mode": {
    "name": "ipython",
    "version": 3
   },
   "file_extension": ".py",
   "mimetype": "text/x-python",
   "name": "python",
   "nbconvert_exporter": "python",
   "pygments_lexer": "ipython3",
   "version": "3.10.0"
  }
 },
 "nbformat": 4,
 "nbformat_minor": 5
}
